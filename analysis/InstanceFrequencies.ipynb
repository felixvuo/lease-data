{
 "cells": [
  {
   "cell_type": "code",
   "execution_count": 1,
   "metadata": {},
   "outputs": [],
   "source": [
    "#TIMESFILE='../data/ankara-basics/times_par2_to3600.csv.gz'\n",
    "TIMESFILE='../data/xtra-ankara/times_par10_to3600.csv.gz'\n",
    "FEATSFILE='../data/solving-and-features/features-sumpb.csv.gz'\n",
    "IDCOLS= ['ProblemDir','ParamFile']\n",
    "DISPLAYCOLS=2\n",
    "\n",
    "import math\n",
    "import numpy as np\n",
    "import pandas as pd\n",
    "\n",
    "t = pd.read_csv(TIMESFILE)\n",
    "f = pd.read_csv(FEATSFILE)\n",
    "\n",
    "instances = t[IDCOLS].merge(f[IDCOLS]).drop_duplicates()"
   ]
  },
  {
   "cell_type": "code",
   "execution_count": 2,
   "metadata": {},
   "outputs": [
    {
     "name": "stdout",
     "output_type": "stream",
     "text": [
      "        ProblemDir                       ParamFile\n",
      "0             bacp   bacp-m1-05-c18-xcsp2018.param\n",
      "81            bacp   bacp-m1-06-c18-xcsp2018.param\n",
      "162           bacp  bacp-m1-07a-c18-xcsp2018.param\n",
      "243           bacp  bacp-m1-07b-c18-xcsp2018.param\n",
      "324           bibd          bibd-miguel-hard.param\n",
      "...            ...                             ...\n",
      "49965  tickTackToe              tickTackToe7.param\n",
      "50046  waterBucket              waterBucket1.param\n",
      "50127  waterBucket              waterBucket2.param\n",
      "50208  waterBucket              waterBucket3.param\n",
      "50289  waterBucket              waterBucket4.param\n",
      "\n",
      "[625 rows x 2 columns]\n",
      "                ProblemDir             ParamFile\n",
      "0                semigroup         semi-14.param\n",
      "1                semigroup         semi-09.param\n",
      "2                semigroup         semi-11.param\n",
      "3                semigroup         semi-06.param\n",
      "4                semigroup         semi-10.param\n",
      "..                     ...                   ...\n",
      "816  quasiGroup4Idempotent  quasiGroupX_13.param\n",
      "817  quasiGroup4Idempotent  quasiGroupX_08.param\n",
      "818  quasiGroup4Idempotent  quasiGroupX_11.param\n",
      "819  quasiGroup4Idempotent  quasiGroupX_12.param\n",
      "820  quasiGroup4Idempotent  quasiGroupX_14.param\n",
      "\n",
      "[821 rows x 2 columns]\n"
     ]
    }
   ],
   "source": [
    "print(t[IDCOLS].drop_duplicates())\n",
    "print(f[IDCOLS].drop_duplicates())"
   ]
  },
  {
   "cell_type": "markdown",
   "metadata": {},
   "source": [
    "## Hmmm, still some instances without sums or PBs?"
   ]
  },
  {
   "cell_type": "code",
   "execution_count": 3,
   "metadata": {
    "scrolled": false
   },
   "outputs": [
    {
     "name": "stdout",
     "output_type": "stream",
     "text": [
      "WITHOUT SUMS OR PBs!!!\n",
      "          model          param\n",
      "580  semigroup  semi-05.param\n",
      "581  semigroup  semi-06.param\n",
      "582  semigroup  semi-07.param\n",
      "583  semigroup  semi-08.param\n",
      "584  semigroup  semi-09.param\n",
      "585  semigroup  semi-10.param\n",
      "586  semigroup  semi-11.param\n",
      "587  semigroup  semi-12.param\n",
      "588  semigroup  semi-13.param\n",
      "589  semigroup  semi-14.param\n",
      "590  semigroup  semi-15.param\n",
      "                       model  param        n_pbs       n_sums\n",
      "16             killerSudoku2     50  1811.200000   129.920000\n",
      "6              carSequencing     49   435.714286     0.000000\n",
      "18                   knights     44   170.454545   336.909091\n",
      "19                  langford     39   146.205128     0.000000\n",
      "27                       opd     36    21.888889    76.222222\n",
      "17                  knapsack     28     1.000000     1.000000\n",
      "45                    sonet2     24    10.000000     1.000000\n",
      "15               immigration     23     0.000000     1.000000\n",
      "2               bibd-implied     22   410.590909     0.000000\n",
      "10                      efpa     21   162.761905     0.000000\n",
      "14                 handball7     20   705.000000  1206.000000\n",
      "23                 mrcpsp-pb     20    90.000000    45.700000\n",
      "24                  n_queens     20  1593.000000     0.000000\n",
      "1                       bibd     19   338.736842     0.000000\n",
      "5                briansBrain     16     0.000000     1.000000\n",
      "20                      life     16     0.000000   438.875000\n",
      "22                   molnars     16     0.000000     4.000000\n",
      "25                 n_queens2     16   309.000000     0.000000\n",
      "4                       bpmp     14    14.000000     0.000000\n",
      "3                  blackHole     11   202.181818     0.000000\n",
      "32         pegSolitaireTable      8    59.875000     0.000000\n",
      "31         pegSolitaireState      8    59.875000     0.000000\n",
      "30        pegSolitaireAction      8    59.875000     0.000000\n",
      "21               magicSquare      7   136.000000    36.000000\n",
      "28    peaceableArmyOfQueens1      7     0.000000  1008.000000\n",
      "29       peacefulArmyQueens3      6     0.000000     4.000000\n",
      "38     quasiGroup5Idempotent      6   586.666667     0.000000\n",
      "12                    golomb      6    59.166667    38.666667\n",
      "41               quasiGroup7      6   410.666667     0.000000\n",
      "40               quasiGroup6      6   410.666667     0.000000\n",
      "37  quasiGroup4NonIdempotent      4  1067.500000   208.000000\n",
      "35  quasiGroup3NonIdempotent      4  1067.500000   208.000000\n",
      "39  quasiGroup5NonIdempotent      4   389.000000     0.000000\n",
      "36     quasiGroup4Idempotent      4   416.000000   208.000000\n",
      "0                       bacp      4     0.000000    25.000000\n",
      "34     quasiGroup3Idempotent      4   458.000000   208.000000\n",
      "48               waterBucket      4     0.000000    46.000000\n",
      "9         discreteTomography      2   240.000000     0.000000\n",
      "43      solitaire_battleship      2    72.000000    16.000000\n",
      "33                  plotting      1     1.000000    28.000000\n",
      "26                     nurse      1    27.000000    42.000000\n",
      "13                   grocery      1     0.000000     2.000000\n",
      "11              farm_puzzle1      1     0.000000     2.000000\n",
      "8                       diet      1     0.000000     6.000000\n",
      "42                   sokoban      1     0.000000    24.000000\n",
      "44                     sonet      1     3.000000     1.000000\n",
      "7                  contrived      1     0.000000     4.000000\n",
      "46          sportsScheduling      1   166.000000    64.000000\n",
      "47               tickTackToe      1     6.000000    14.000000\n",
      "Total # of classes shown: 49\n",
      "Total # of instances shown: 614\n"
     ]
    }
   ],
   "source": [
    "corpus = instances.merge(f[IDCOLS+['sarofe_pbs_count','sarofe_sums_count']])\n",
    "corpus.columns=['model','param','n_pbs','n_sums']\n",
    "print(\"WITHOUT SUMS OR PBs!!!\\n\",corpus.loc[(corpus.n_pbs+corpus.n_sums) == 0,['model','param']])\n",
    "corpus = corpus.loc[(corpus.n_pbs+corpus.n_sums) > 0]\n",
    "summary = corpus.groupby('model').aggregate({'param':'count','n_pbs':'mean','n_sums':'mean'})\n",
    "summary = summary.reset_index()\n",
    "summary = summary.sort_values('param',ascending=False)\n",
    "print(summary)\n",
    "print(\"Total # of classes shown:\", len(summary))\n",
    "print(\"Total # of instances shown:\", summary.param.sum())"
   ]
  },
  {
   "cell_type": "code",
   "execution_count": 4,
   "metadata": {
    "scrolled": false
   },
   "outputs": [
    {
     "name": "stdout",
     "output_type": "stream",
     "text": [
      "killerSudoku2 & 50 & 1811.2 & 129.9 & carSequencing & 49 & 435.7 & 0.0\\\\\n",
      "knights & 44 & 170.5 & 336.9 & langford & 39 & 146.2 & 0.0\\\\\n",
      "opd & 36 & 21.9 & 76.2 & knapsack & 28 & 1.0 & 1.0\\\\\n",
      "sonet2 & 24 & 10.0 & 1.0 & immigration & 23 & 0.0 & 1.0\\\\\n",
      "bibd-implied & 22 & 410.6 & 0.0 & efpa & 21 & 162.8 & 0.0\\\\\n",
      "handball7 & 20 & 705.0 & 1206.0 & mrcpsp-pb & 20 & 90.0 & 45.7\\\\\n",
      "n\\_queens & 20 & 1593.0 & 0.0 & bibd & 19 & 338.7 & 0.0\\\\\n",
      "briansBrain & 16 & 0.0 & 1.0 & life & 16 & 0.0 & 438.9\\\\\n",
      "molnars & 16 & 0.0 & 4.0 & n\\_queens2 & 16 & 309.0 & 0.0\\\\\n",
      "bpmp & 14 & 14.0 & 0.0 & blackHole & 11 & 202.2 & 0.0\\\\\n",
      "pegSolitaireTable & 8 & 59.9 & 0.0 & pegSolitaireState & 8 & 59.9 & 0.0\\\\\n",
      "pegSolitaireAction & 8 & 59.9 & 0.0 & magicSquare & 7 & 136.0 & 36.0\\\\\n",
      "peaceableArmyOfQueens1 & 7 & 0.0 & 1008.0 & peacefulArmyQueens3 & 6 & 0.0 & 4.0\\\\\n",
      "quasiGroup5Idempotent & 6 & 586.7 & 0.0 & golomb & 6 & 59.2 & 38.7\\\\\n",
      "quasiGroup7 & 6 & 410.7 & 0.0 & quasiGroup6 & 6 & 410.7 & 0.0\\\\\n",
      "quasiGroup4NonIdempotent & 4 & 1067.5 & 208.0 & quasiGroup3NonIdempotent & 4 & 1067.5 & 208.0\\\\\n",
      "quasiGroup5NonIdempotent & 4 & 389.0 & 0.0 & quasiGroup4Idempotent & 4 & 416.0 & 208.0\\\\\n",
      "bacp & 4 & 0.0 & 25.0 & quasiGroup3Idempotent & 4 & 458.0 & 208.0\\\\\n",
      "waterBucket & 4 & 0.0 & 46.0 & discreteTomography & 2 & 240.0 & 0.0\\\\\n",
      "solitaire\\_battleship & 2 & 72.0 & 16.0 & plotting & 1 & 1.0 & 28.0\\\\\n",
      "nurse & 1 & 27.0 & 42.0 & grocery & 1 & 0.0 & 2.0\\\\\n",
      "farm\\_puzzle1 & 1 & 0.0 & 2.0 & diet & 1 & 0.0 & 6.0\\\\\n",
      "sokoban & 1 & 0.0 & 24.0 & sonet & 1 & 3.0 & 1.0\\\\\n",
      "contrived & 1 & 0.0 & 4.0 & sportsScheduling & 1 & 166.0 & 64.0\\\\\n",
      "tickTackToe & 1 & 6.0 & 14.0 &   & 0 & 0 & 0\n"
     ]
    }
   ],
   "source": [
    "a_freqs = summary.to_numpy()\n",
    "items_needed = math.ceil(len(a_freqs) / DISPLAYCOLS)*DISPLAYCOLS - len(a_freqs)\n",
    "if items_needed>0:\n",
    "    extra_rows = np.array([[' ',0,0,0] for _ in range(items_needed)])\n",
    "    filled_freqs = np.append(a_freqs,extra_rows,axis=0)\n",
    "else:\n",
    "    filled_freqs = a_freqs\n",
    "\n",
    "wide = filled_freqs.reshape(-1,4*DISPLAYCOLS)\n",
    "\n",
    "def _show(x):\n",
    "    if type(x)==float:\n",
    "        return f\"{x:.1f}\"\n",
    "    else:\n",
    "        return str(x).replace(\"_\",r\"\\_\")\n",
    "\n",
    "print(\"\\\\\\\\\\n\".join([\" & \".join(map(_show,row)) for row in wide]))\n"
   ]
  },
  {
   "cell_type": "markdown",
   "metadata": {},
   "source": [
    "## Curious how often the are more LIs or PBs"
   ]
  },
  {
   "cell_type": "code",
   "execution_count": 20,
   "metadata": {},
   "outputs": [
    {
     "name": "stdout",
     "output_type": "stream",
     "text": [
      "Some PBs  519\n",
      "Some sums 356\n",
      "More PBs 383\n",
      "More LIs 202\n",
      "Same     30\n"
     ]
    }
   ],
   "source": [
    "print(\"Some PBs \",len(corpus.loc[corpus.n_pbs>0]))\n",
    "print(\"Some sums\",len(corpus.loc[corpus.n_sums>0]))\n",
    "print(\"More PBs\",len(corpus.loc[corpus.n_pbs>corpus.n_sums]))\n",
    "print(\"More LIs\",len(corpus.loc[corpus.n_pbs<corpus.n_sums]))\n",
    "print(\"Same    \",len(corpus.loc[corpus.n_pbs==corpus.n_sums]))"
   ]
  },
  {
   "cell_type": "markdown",
   "metadata": {},
   "source": [
    "## What about the sizes?"
   ]
  },
  {
   "cell_type": "code",
   "execution_count": 19,
   "metadata": {},
   "outputs": [
    {
     "name": "stdout",
     "output_type": "stream",
     "text": [
      "       sarofe_pbs_n_med\n",
      "count        519.000000\n",
      "mean          36.932563\n",
      "std           45.244907\n",
      "min            1.000000\n",
      "25%            8.500000\n",
      "50%           18.000000\n",
      "75%           48.500000\n",
      "max          280.000000\n",
      "       sarofe_sums_n_med\n",
      "count         356.000000\n",
      "mean         5917.533708\n",
      "std         44209.932288\n",
      "min             4.000000\n",
      "25%            21.000000\n",
      "50%            36.000000\n",
      "75%           117.750000\n",
      "max        521285.000000\n"
     ]
    }
   ],
   "source": [
    "_feats = f.merge(corpus, left_on=IDCOLS,right_on=['model','param'])\n",
    "\n",
    "print(_feats.loc[_feats.sarofe_pbs_count>0,['sarofe_pbs_n_med']].describe())\n",
    "print(_feats.loc[_feats.sarofe_sums_count>0,['sarofe_sums_n_med']].describe())\n"
   ]
  }
 ],
 "metadata": {
  "kernelspec": {
   "display_name": "Python 3 (ipykernel)",
   "language": "python",
   "name": "python3"
  },
  "language_info": {
   "codemirror_mode": {
    "name": "ipython",
    "version": 3
   },
   "file_extension": ".py",
   "mimetype": "text/x-python",
   "name": "python",
   "nbconvert_exporter": "python",
   "pygments_lexer": "ipython3",
   "version": "3.10.6"
  }
 },
 "nbformat": 4,
 "nbformat_minor": 4
}
